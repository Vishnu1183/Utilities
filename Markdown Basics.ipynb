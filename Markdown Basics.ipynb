{
 "cells": [
  {
   "cell_type": "markdown",
   "metadata": {},
   "source": [
    "<h1><center><font color = 'red' face = 'times' size =+3>MARKDOWN BASICS</font></center></h1>\n",
    "<h5>By - Vishnu Prakash Singh</h5>\n",
    "<h6>12th Aug,2019</h6>"
   ]
  },
  {
   "cell_type": "markdown",
   "metadata": {},
   "source": [
    "---\n",
    "### 1.1) Writing in Italics\n",
    "```python\n",
    "*I am writing this line in italic*\n",
    "_I am writing this line in italic_\n",
    "<i>I am writing this line in italic</i>\n",
    "```\n",
    "*I am writing this line in italic*"
   ]
  },
  {
   "cell_type": "markdown",
   "metadata": {},
   "source": [
    "------\n",
    "### 1.2) Writing in Bold\n",
    "```python\n",
    "**I am writing this line in bold**\n",
    "__I am writing this line in bold__\n",
    "<b>I am writing this line in bold</b>\n",
    "```\n",
    "**I am writing this line in bold**"
   ]
  },
  {
   "cell_type": "markdown",
   "metadata": {},
   "source": [
    "---\n",
    "### 1.3) Writing Code\n",
    "```python\n",
    "To read a csv file, use `pd.read_csv`\n",
    "To wrte a csv file, use <code>pd.to_csv</code>\n",
    "```\n",
    "To read a csv file, use `pd.read_csv`<br>\n",
    "To wrte a csv file, use <code>pd.to_csv</code>"
   ]
  },
  {
   "cell_type": "markdown",
   "metadata": {},
   "source": [
    "---\n",
    "### 1.4) Writing in Blockquotes\n",
    "```python\n",
    "> I am learning markdown basics.\n",
    ">> Markdown is a good way to present.\n",
    "```\n",
    "> I am learning markdown basics.\n",
    "> \n",
    ">> Markdown is a good way to present."
   ]
  },
  {
   "cell_type": "markdown",
   "metadata": {},
   "source": [
    "------\n",
    "### 1.5) Underlining Text in Markdown\n",
    "```python\n",
    "<u>I am underlining this line</u>\n",
    "```\n",
    "<u>I am underlining this line</u>"
   ]
  },
  {
   "cell_type": "markdown",
   "metadata": {},
   "source": [
    "---\n",
    "### 1.6) Strike Through Texts\n",
    "```python\n",
    "~~I am striking through this line.~~\n",
    "```\n",
    "~~I am striking through this line.~~"
   ]
  },
  {
   "cell_type": "markdown",
   "metadata": {},
   "source": [
    "---\n",
    "### 1.7) Citing in Markdown\n",
    "```python\n",
    "<cite>I am citing this line</cite>\n",
    "```\n",
    "<cite>I am citing this line</cite>"
   ]
  },
  {
   "cell_type": "markdown",
   "metadata": {},
   "source": [
    "---\n",
    "### 1.8) Breaking a line in Markdown\n",
    "```python\n",
    "This is a very long line,<br> i should break it into two.\n",
    "```\n",
    "This is a very long line,<br> i should break it into two."
   ]
  },
  {
   "cell_type": "markdown",
   "metadata": {},
   "source": [
    "---\n",
    "### 1.9) Breaking a line in Markdown\n",
    "```python\n",
    "This is a very long line,<hr> i should break it into two by drawing a line in between.\n",
    "```\n",
    "This is a very long line,<hr> i should break it into two by drawing a line in between."
   ]
  },
  {
   "cell_type": "markdown",
   "metadata": {},
   "source": [
    "---\n",
    "### 2.1) Ordered Lists in Markdown\n",
    "```python\n",
    "__I like following things__\n",
    "1. Movies\n",
    "    1. More Movies\n",
    "    2. TV Series\n",
    "2. Coffee\n",
    "# instead of *, + , - can also be used.\n",
    "```\n",
    "__I like following things__\n",
    "1. Movies\n",
    "    1. More Movies\n",
    "    2. TV Series\n",
    "2. Coffee"
   ]
  },
  {
   "cell_type": "markdown",
   "metadata": {},
   "source": [
    "---\n",
    "### 2.2) Ordered Lists in Markdown using HTML syntax\n",
    "```python\n",
    "\n",
    "__I like following things__\n",
    "<ol>\n",
    "<li> Movies</li>\n",
    "<ol>\n",
    "<li> More Movies</li>\n",
    "<li>  TV Series</li>\n",
    "</ol>\n",
    "<li> Coffee</li>\n",
    "</ol>\n",
    "```\n",
    "__I like following things__\n",
    "<ol>\n",
    "<li> Movies</li>\n",
    "<ol>\n",
    "<li> More Movies</li>\n",
    "<li>  TV Series</li>\n",
    "</ol>\n",
    "<li> Coffee</li>\n",
    "</ol>"
   ]
  },
  {
   "cell_type": "markdown",
   "metadata": {},
   "source": [
    "---\n",
    "### 2.2) Unordered Lists in Markdown\n",
    "```python\n",
    "__I like following things__\n",
    "* Movies\n",
    "    * More Movies\n",
    "    * TV Series\n",
    "* Coffee\n",
    "# instead of *, + , - can also be used.\n",
    "```\n",
    "---\n",
    "__I like following things__\n",
    "* Movies\n",
    "    * More Movies\n",
    "    * TV Series\n",
    "* Coffee"
   ]
  },
  {
   "cell_type": "markdown",
   "metadata": {},
   "source": [
    "---\n",
    "### 2.4) Unordered Lists in Markdown using HTML syntax\n",
    "```python\n",
    "__I like following things__\n",
    "<ul>\n",
    "<li>Movies\n",
    "<ul>\n",
    "<li>More Movies</li>\n",
    "<li>TV Series</li>\n",
    "</ul>\n",
    "<li>Coffee</li>\n",
    "</ul>\n",
    "```\n",
    "---\n",
    "__I like following things__\n",
    "<ul>\n",
    "<li>Movies\n",
    "<ul>\n",
    "<li>More Movies</li>\n",
    "<li>TV Series</li>\n",
    "</ul>\n",
    "<li>Coffee</li>\n",
    "</ul>"
   ]
  },
  {
   "cell_type": "markdown",
   "metadata": {},
   "source": [
    "---\n",
    "### 2.5) Lists with check box in Markdown\n",
    "```python\n",
    "- [ ] Do's\n",
    "    - [ ] eat\n",
    "    - [ ] sleep\n",
    "- [x] Dont's\n",
    "    - [x] kill\n",
    "```\n",
    "- [ ] Do's\n",
    "    - [ ] eat\n",
    "    - [ ] sleep\n",
    "- [x] Dont's\n",
    "    - [x] kill"
   ]
  },
  {
   "cell_type": "markdown",
   "metadata": {},
   "source": [
    "---\n",
    "### 3.1) Headings in Markdown\n",
    "```python\n",
    "# This is Heading 1.\n",
    "<h1>This is Heading 1.</h1>\n",
    "```\n",
    "# This is Heading 1."
   ]
  },
  {
   "cell_type": "markdown",
   "metadata": {},
   "source": [
    "---\n",
    "### 3.2) Headings in Markdown\n",
    "```python\n",
    "## This is Heading 2.\n",
    "<h2>This is Heading 2.</h2>\n",
    "```\n",
    "## This is Heading 2."
   ]
  },
  {
   "cell_type": "markdown",
   "metadata": {},
   "source": [
    "---\n",
    "### 3.3) Headings in Markdown\n",
    "```python\n",
    "### This is Heading 3.\n",
    "<h3>This is Heading 3.</3>\n",
    "```\n",
    "### This is Heading 3."
   ]
  },
  {
   "cell_type": "markdown",
   "metadata": {},
   "source": [
    "---\n",
    "### 3.4) Headings in Markdown\n",
    "```python\n",
    "#### This is Heading 4.\n",
    "<h4>This is Heading 4.</4>\n",
    "```\n",
    "#### This is Heading 4."
   ]
  },
  {
   "cell_type": "markdown",
   "metadata": {},
   "source": [
    "---\n",
    "### 3.5) Headings in Markdown\n",
    "```python\n",
    "##### This is Heading 5.\n",
    "<h5>This is Heading 5.</5>\n",
    "```\n",
    "##### This is Heading 5."
   ]
  },
  {
   "cell_type": "markdown",
   "metadata": {},
   "source": [
    "---\n",
    "### 3.6) Headings in Markdown\n",
    "```python\n",
    "###### This is Heading 6.\n",
    "<h6>This is Heading 6.</6>\n",
    "```\n",
    "###### This is Heading 6."
   ]
  },
  {
   "cell_type": "markdown",
   "metadata": {},
   "source": [
    "---\n",
    "### 4.1) Aligning Texts in Markdown\n",
    "```python\n",
    "<center>This Text is put in center.</center>\n",
    "```\n",
    "<center>This Text is put in center.</center>"
   ]
  },
  {
   "cell_type": "markdown",
   "metadata": {},
   "source": [
    "---\n",
    "### 4.2) Aligning Headings in Markdown\n",
    "```python\n",
    "<center>This Heading is put in center.</center>\n",
    "```\n",
    "<h3><center>This Heading is put in center.</center></h3>"
   ]
  },
  {
   "cell_type": "markdown",
   "metadata": {},
   "source": [
    "---\n",
    "### 5.1) Code Highlighting in Markdown\n",
    "\n",
    "````\n",
    "```python\n",
    "print(\"Hello World!!!\")\n",
    "```\n",
    "````\n",
    "\n",
    "```python\n",
    "print(\"Hello World!!!\")\n",
    "```"
   ]
  },
  {
   "cell_type": "markdown",
   "metadata": {},
   "source": [
    "---\n",
    "### 5.2) Code Highlighting in Markdown\n",
    "\n",
    "````\n",
    "```java\n",
    "print(\"Hello World!!!\")\n",
    "```\n",
    "````\n",
    "\n",
    "```java\n",
    "print(\"Hello World!!!\")\n",
    "```"
   ]
  },
  {
   "cell_type": "markdown",
   "metadata": {},
   "source": [
    "---\n",
    "### 6.1) Inserting Table in Markdown\n",
    "```python\n",
    "|  Col1| Col2 |\n",
    "|------|------|\n",
    "|This  | is   |\n",
    "|   a  | table|\n",
    "```\n",
    "\n",
    "|  Col1| Col2 |\n",
    "|------|------|\n",
    "|This  | is   |\n",
    "|   a  | table|"
   ]
  },
  {
   "cell_type": "markdown",
   "metadata": {},
   "source": [
    "----\n",
    "### 6.2) Inserting Formulae\n",
    "```python\n",
    "$e^{i\\pi} + 1 = 0$\n",
    "```\n",
    "$e^{i\\pi} + 1 = 0$"
   ]
  },
  {
   "cell_type": "markdown",
   "metadata": {},
   "source": [
    "---\n",
    "### 6.3) Inserting Links\n",
    "```python\n",
    "[github](https://github.com/, 'github')\n",
    "```\n",
    "[github](https://github.com/, 'github')"
   ]
  },
  {
   "cell_type": "markdown",
   "metadata": {},
   "source": [
    "---\n",
    "### 6.4) Inserting Local Images\n",
    "```python\n",
    "![Alt sin_cos_curve](my_figure.png \"Sine Cos Curve\")\n",
    "# Drag and drop the image in a markdown cell to add an image in python notebook.\n",
    "# In order to view image in HTML, keep the HTML at same location as python notebook.\n",
    "# Hover over the image for the title text\n",
    "```\n",
    "![Alt sin_cos_curve](my_figure.png \"Sine Cos Curve\")"
   ]
  },
  {
   "cell_type": "markdown",
   "metadata": {},
   "source": [
    "---\n",
    "### 6.5) Inserting Online Images\n",
    "```python\n",
    "![Python Logo](https://jelastic.com/blog/wp-content/uploads/2019/02/python-logo.png \"Python Logo\")\n",
    "```\n",
    "![Python Logo](https://jelastic.com/blog/wp-content/uploads/2019/02/python-logo.png \"Python Logo\")"
   ]
  },
  {
   "cell_type": "markdown",
   "metadata": {},
   "source": [
    "### 6.6) Inserting horizontal line\n",
    "```python\n",
    "---\n",
    "***\n",
    "---\n",
    "<hr size = 2 height = 3 width = 300>\n",
    "```\n",
    "---\n",
    "\n",
    "<hr size = 5 height = 5 width = 300>\n"
   ]
  },
  {
   "cell_type": "markdown",
   "metadata": {},
   "source": [
    "### 6.7) Inserting shapes\n",
    "```python\n",
    "I will display &#9658;\n",
    "I will display &#9632;\n",
    "refer for more shapes - https://www.w3schools.com/charsets/ref_utf_geometric.asp\n",
    "```\n",
    "\n",
    "I will display &#9658;<br>\n",
    "I will display &#9632;\n"
   ]
  },
  {
   "cell_type": "markdown",
   "metadata": {},
   "source": [
    "---\n",
    "### 7.1) Changing Color of text\n",
    "```python\n",
    "<font color='green'>The color of this text is green.</font>\n",
    "```\n",
    "<font color='green'>The color of this text is green.</font>"
   ]
  },
  {
   "cell_type": "markdown",
   "metadata": {},
   "source": [
    "---\n",
    "### 7.2) Changing Size of text\n",
    "```python\n",
    "<font size= 5>The size of this text is 5.</font>\n",
    "```\n",
    "<font size= 5>The size of this text is 5.</font>"
   ]
  },
  {
   "cell_type": "markdown",
   "metadata": {},
   "source": [
    "---\n",
    "### 7.3) Changing font of text\n",
    "```python\n",
    "<font face=\"arial\">The font of this text is Arial.</font>\n",
    "# For more fonts - https://websitesetup.org/web-safe-fonts-html-css/\n",
    "```\n",
    "<font face=\"arial\">The font of this text is Arial.</font>"
   ]
  },
  {
   "cell_type": "markdown",
   "metadata": {},
   "source": [
    "---\n",
    "### 7.4) Changing color, size, font of text\n",
    "```python\n",
    "<font size=\"4\" face=\"Verdana\" color=\"blue\">\n",
    "This text is in Verdana, size 4, and in blue color.\n",
    "</font>\n",
    "```\n",
    "<font size=\"4\" face=\"Verdana\" color=\"blue\">\n",
    "This text is in Verdana, size 4, and in blue color.\n",
    "</font>"
   ]
  },
  {
   "cell_type": "markdown",
   "metadata": {},
   "source": [
    "---\n",
    "### 7.5) Increasing Size of text\n",
    "```python\n",
    "<font size=\"+2\">I am increasing the size of the text by 2.</font>\n",
    "```\n",
    "<font size=\"+2\">I am increasing the size of the text by 2.</font>"
   ]
  },
  {
   "cell_type": "markdown",
   "metadata": {},
   "source": [
    "---\n",
    "### 7.6) Decreasing Size of text\n",
    "```python\n",
    "<font size=\"-1\">I am decreasing the size of the text by 1.</font>\n",
    "```\n",
    "<font size=\"-1\">I am decreasing the size of the text by 1.</font>"
   ]
  },
  {
   "cell_type": "markdown",
   "metadata": {},
   "source": [
    "---\n",
    "### 8.1) Escaping Special Characters\n",
    "```python\n",
    "\\* I want to wrap this line in star symbol. \\*\n",
    "\\` I want to wrap this line in backticks. \\`\n",
    "\n",
    "# Use backslash(\\) before the special character to tell Jupyter notebook to ignore Markdown Syntax.\n",
    "# Backslash can escape these special characters  `, *, _,{}, [], (), #, +, -, ., !, \\\n",
    "```\n",
    "\\* I want to wrap this line in star symbol. \\*<br>\n",
    "\\` I want to wrap this line in backticks. \\`"
   ]
  },
  {
   "cell_type": "markdown",
   "metadata": {},
   "source": [
    "---\n",
    "### 8.2) Other way of escaping Backticks\n",
    "\n",
    "```python\n",
    "```` `I want to wrap this line in backticks.` ```` ```\n",
    "```python\n",
    "# Use ```` to the left and right of the text to escape backticks in markdown \n",
    "```\n",
    "\n",
    "````\n",
    "` I want to wrap this line in backticks.`\n",
    "````"
   ]
  },
  {
   "cell_type": "markdown",
   "metadata": {},
   "source": [
    "# <center>***THE END***</center>\n",
    "---"
   ]
  }
 ],
 "metadata": {
  "kernelspec": {
   "display_name": "Python 3",
   "language": "python",
   "name": "python3"
  },
  "language_info": {
   "codemirror_mode": {
    "name": "ipython",
    "version": 3
   },
   "file_extension": ".py",
   "mimetype": "text/x-python",
   "name": "python",
   "nbconvert_exporter": "python",
   "pygments_lexer": "ipython3",
   "version": "3.7.3"
  }
 },
 "nbformat": 4,
 "nbformat_minor": 2
}
