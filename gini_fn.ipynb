{
 "cells": [
  {
   "cell_type": "raw",
   "metadata": {},
   "source": [
    "df = pd.DataFrame({'target': np.random.randint(2, size=5000),'pred' : np.random.rand(5000)})\n",
    "np.bincount(np.random.randint(2, size=5000))"
   ]
  },
  {
   "cell_type": "code",
   "execution_count": 1,
   "metadata": {},
   "outputs": [],
   "source": [
    "from IPython.core.interactiveshell import InteractiveShell\n",
    "InteractiveShell.ast_node_interactivity = \"all\"\n",
    "import pandas as pd\n",
    "import numpy as np \n",
    "import gc\n",
    "import warnings\n",
    "warnings.filterwarnings('ignore')"
   ]
  },
  {
   "cell_type": "code",
   "execution_count": 2,
   "metadata": {},
   "outputs": [
    {
     "data": {
      "text/html": [
       "<div>\n",
       "<style scoped>\n",
       "    .dataframe tbody tr th:only-of-type {\n",
       "        vertical-align: middle;\n",
       "    }\n",
       "\n",
       "    .dataframe tbody tr th {\n",
       "        vertical-align: top;\n",
       "    }\n",
       "\n",
       "    .dataframe thead th {\n",
       "        text-align: right;\n",
       "    }\n",
       "</style>\n",
       "<table border=\"1\" class=\"dataframe\">\n",
       "  <thead>\n",
       "    <tr style=\"text-align: right;\">\n",
       "      <th></th>\n",
       "      <th>pred_0</th>\n",
       "      <th>pred</th>\n",
       "      <th>target</th>\n",
       "    </tr>\n",
       "  </thead>\n",
       "  <tbody>\n",
       "    <tr>\n",
       "      <th>0</th>\n",
       "      <td>0.864241</td>\n",
       "      <td>0.135759</td>\n",
       "      <td>0</td>\n",
       "    </tr>\n",
       "    <tr>\n",
       "      <th>1</th>\n",
       "      <td>0.652397</td>\n",
       "      <td>0.347603</td>\n",
       "      <td>0</td>\n",
       "    </tr>\n",
       "    <tr>\n",
       "      <th>2</th>\n",
       "      <td>0.661938</td>\n",
       "      <td>0.338062</td>\n",
       "      <td>0</td>\n",
       "    </tr>\n",
       "    <tr>\n",
       "      <th>3</th>\n",
       "      <td>0.877545</td>\n",
       "      <td>0.122455</td>\n",
       "      <td>0</td>\n",
       "    </tr>\n",
       "    <tr>\n",
       "      <th>4</th>\n",
       "      <td>0.842193</td>\n",
       "      <td>0.157807</td>\n",
       "      <td>0</td>\n",
       "    </tr>\n",
       "  </tbody>\n",
       "</table>\n",
       "</div>"
      ],
      "text/plain": [
       "     pred_0      pred  target\n",
       "0  0.864241  0.135759       0\n",
       "1  0.652397  0.347603       0\n",
       "2  0.661938  0.338062       0\n",
       "3  0.877545  0.122455       0\n",
       "4  0.842193  0.157807       0"
      ]
     },
     "execution_count": 2,
     "metadata": {},
     "output_type": "execute_result"
    }
   ],
   "source": [
    "df = pd.read_csv('/mapr/hdpbiu/_392256_vishnu/train_cc_gini.csv')\n",
    "df.rename({'0': 'pred_0', '1':'pred'}, axis = 1, inplace = True)\n",
    "df.head()"
   ]
  },
  {
   "cell_type": "code",
   "execution_count": 22,
   "metadata": {},
   "outputs": [],
   "source": [
    "def gini(data,target,prediction,bin=10):\n",
    "    qnt = np.quantile(data[prediction],q=np.linspace(0, 1, bin+1),axis=0)\n",
    "    qnt[0] = -0.001\n",
    "    qnt[bin] = 1\n",
    "    data['band'] = pd.cut(data[prediction], qnt)\n",
    "    gini_tab = pd.crosstab(index=data['band'],columns=data[target],margins=True, margins_name=\"Total\",\\\n",
    "            rownames=['band'], colnames=['index'])\n",
    "    gini_tab.reset_index(inplace=True)\n",
    "    gini_tab.rename({1 : 'Event' , 0 : 'NonEvent'},axis = 1,inplace=True)\n",
    "    gini_tab_tot = gini_tab.loc[bin]\n",
    "    gini_tab = gini_tab.drop(bin)[::-1]\n",
    "    gini_tab.loc[bin] = gini_tab_tot\n",
    "    gini_tab.reset_index(drop= True, inplace = True)\n",
    "    gini_tab['cum_nonevent'] = gini_tab.NonEvent.cumsum()\n",
    "    gini_tab.loc[bin,'cum_nonevent'] = gini_tab.loc[bin, 'NonEvent']\n",
    "\n",
    "    gini_tab['cum_event'] = gini_tab.Event.cumsum()\n",
    "    gini_tab.loc[bin,'cum_event'] = gini_tab.loc[bin, 'Event']\n",
    "    \n",
    "    gini_tab['population_%'] = 100*(gini_tab['Total']/gini_tab.loc[bin,'Total'])\n",
    "    gini_tab['cum_nonevent_%'] = 100*(gini_tab['cum_nonevent']/gini_tab.loc[bin,'NonEvent'])\n",
    "    gini_tab['cum_event_%'] = 100*(gini_tab['cum_event']/gini_tab.loc[bin,'Event'])\n",
    "    gini_tab['difference'] = gini_tab['cum_event_%'] - gini_tab['cum_nonevent_%']\n",
    "    gini_tab['event_rate'] = 100*(gini_tab['Event']/gini_tab.Total)\n",
    "    \n",
    "    gini_tab['gini'] = np.nan\n",
    "    for i in range(bin):\n",
    "        if(i == 0):\n",
    "            gini_tab['gini'][i] = gini_tab['cum_nonevent_%'][i] * gini_tab['cum_event_%'][i] * 0.5*0.01\n",
    "        if(i > 0):\n",
    "             gini_tab['gini'][i] = (gini_tab['cum_nonevent_%'][i] + gini_tab['cum_nonevent_%'][i-1])* (gini_tab['cum_event_%'][i] - gini_tab['cum_event_%'][i-1])*0.5*0.01\n",
    "    gini_val = abs(2*(gini_tab.drop(bin).gini.sum())-100)\n",
    "    ks = max(gini_tab.difference)\n",
    "    import matplotlib.pyplot as plt\n",
    "    plt.ioff()\n",
    "    x = pd.Series(0).append(gini_tab['cum_nonevent_%']).drop(bin).reset_index(drop=True)\n",
    "    y = pd.Series(0).append(gini_tab['cum_event_%']).drop(bin).reset_index(drop=True)\n",
    "    plt.figure()\n",
    "    fig = plt.figure() #plt.figure(figsize=(8, 6))\n",
    "    plt.plot(x, y, x,x)\n",
    "    #_ = plt.plot(x, x)\n",
    "    plt.xlabel(\"Cumulative Non Event in %\")\n",
    "    plt.ylabel(\"Cumulative Event in %\")\n",
    "    plt.title(f'Gini Plot with GINI : {round(gini_val,2)}%')\n",
    "    #plt.title(f\"GINI: %.4f\" %(gini_val))\n",
    "    plt.gca().legend(y,x)\n",
    "       \n",
    "    return gini_tab,gini_val,ks,fig\n",
    "                                "
   ]
  },
  {
   "cell_type": "code",
   "execution_count": 23,
   "metadata": {},
   "outputs": [],
   "source": [
    "gini_table, gini_val, ks,gini_curve = gini(data = df,target= 'target',prediction = 'pred',bin=10)"
   ]
  },
  {
   "cell_type": "code",
   "execution_count": 24,
   "metadata": {},
   "outputs": [
    {
     "data": {
      "text/html": [
       "<div>\n",
       "<style scoped>\n",
       "    .dataframe tbody tr th:only-of-type {\n",
       "        vertical-align: middle;\n",
       "    }\n",
       "\n",
       "    .dataframe tbody tr th {\n",
       "        vertical-align: top;\n",
       "    }\n",
       "\n",
       "    .dataframe thead th {\n",
       "        text-align: right;\n",
       "    }\n",
       "</style>\n",
       "<table border=\"1\" class=\"dataframe\">\n",
       "  <thead>\n",
       "    <tr style=\"text-align: right;\">\n",
       "      <th>index</th>\n",
       "      <th>band</th>\n",
       "      <th>NonEvent</th>\n",
       "      <th>Event</th>\n",
       "      <th>Total</th>\n",
       "      <th>cum_nonevent</th>\n",
       "      <th>cum_event</th>\n",
       "      <th>population_%</th>\n",
       "      <th>cum_nonevent_%</th>\n",
       "      <th>cum_event_%</th>\n",
       "      <th>difference</th>\n",
       "      <th>event_rate</th>\n",
       "      <th>gini</th>\n",
       "    </tr>\n",
       "  </thead>\n",
       "  <tbody>\n",
       "    <tr>\n",
       "      <th>0</th>\n",
       "      <td>(0.391, 1.0]</td>\n",
       "      <td>37763</td>\n",
       "      <td>4121</td>\n",
       "      <td>41884</td>\n",
       "      <td>37763</td>\n",
       "      <td>4121</td>\n",
       "      <td>10.000096</td>\n",
       "      <td>9.360948</td>\n",
       "      <td>26.714638</td>\n",
       "      <td>17.353690</td>\n",
       "      <td>9.839079</td>\n",
       "      <td>1.250372</td>\n",
       "    </tr>\n",
       "    <tr>\n",
       "      <th>1</th>\n",
       "      <td>(0.334, 0.391]</td>\n",
       "      <td>39425</td>\n",
       "      <td>2458</td>\n",
       "      <td>41884</td>\n",
       "      <td>77188</td>\n",
       "      <td>6579</td>\n",
       "      <td>10.000096</td>\n",
       "      <td>19.133884</td>\n",
       "      <td>42.648775</td>\n",
       "      <td>23.514891</td>\n",
       "      <td>5.868589</td>\n",
       "      <td>2.270203</td>\n",
       "    </tr>\n",
       "    <tr>\n",
       "      <th>2</th>\n",
       "      <td>(0.297, 0.334]</td>\n",
       "      <td>39928</td>\n",
       "      <td>1954</td>\n",
       "      <td>41883</td>\n",
       "      <td>117116</td>\n",
       "      <td>8533</td>\n",
       "      <td>9.999857</td>\n",
       "      <td>29.031506</td>\n",
       "      <td>55.315701</td>\n",
       "      <td>26.284194</td>\n",
       "      <td>4.665377</td>\n",
       "      <td>3.050537</td>\n",
       "    </tr>\n",
       "    <tr>\n",
       "      <th>3</th>\n",
       "      <td>(0.271, 0.297]</td>\n",
       "      <td>40341</td>\n",
       "      <td>1544</td>\n",
       "      <td>41885</td>\n",
       "      <td>157457</td>\n",
       "      <td>10077</td>\n",
       "      <td>10.000334</td>\n",
       "      <td>39.031506</td>\n",
       "      <td>65.324776</td>\n",
       "      <td>26.293270</td>\n",
       "      <td>3.686284</td>\n",
       "      <td>3.406239</td>\n",
       "    </tr>\n",
       "    <tr>\n",
       "      <th>4</th>\n",
       "      <td>(0.246, 0.271]</td>\n",
       "      <td>40505</td>\n",
       "      <td>1379</td>\n",
       "      <td>41882</td>\n",
       "      <td>197962</td>\n",
       "      <td>11456</td>\n",
       "      <td>9.999618</td>\n",
       "      <td>49.072160</td>\n",
       "      <td>74.264229</td>\n",
       "      <td>25.192069</td>\n",
       "      <td>3.292584</td>\n",
       "      <td>3.937993</td>\n",
       "    </tr>\n",
       "    <tr>\n",
       "      <th>5</th>\n",
       "      <td>(0.223, 0.246]</td>\n",
       "      <td>40737</td>\n",
       "      <td>1146</td>\n",
       "      <td>41883</td>\n",
       "      <td>238699</td>\n",
       "      <td>12602</td>\n",
       "      <td>9.999857</td>\n",
       "      <td>59.170323</td>\n",
       "      <td>81.693245</td>\n",
       "      <td>22.522922</td>\n",
       "      <td>2.736194</td>\n",
       "      <td>4.020676</td>\n",
       "    </tr>\n",
       "    <tr>\n",
       "      <th>6</th>\n",
       "      <td>(0.199, 0.223]</td>\n",
       "      <td>40846</td>\n",
       "      <td>1038</td>\n",
       "      <td>41884</td>\n",
       "      <td>279545</td>\n",
       "      <td>13640</td>\n",
       "      <td>10.000096</td>\n",
       "      <td>69.295506</td>\n",
       "      <td>88.422144</td>\n",
       "      <td>19.126639</td>\n",
       "      <td>2.478273</td>\n",
       "      <td>4.322168</td>\n",
       "    </tr>\n",
       "    <tr>\n",
       "      <th>7</th>\n",
       "      <td>(0.17, 0.199]</td>\n",
       "      <td>41111</td>\n",
       "      <td>772</td>\n",
       "      <td>41884</td>\n",
       "      <td>320656</td>\n",
       "      <td>14412</td>\n",
       "      <td>10.000096</td>\n",
       "      <td>79.486379</td>\n",
       "      <td>93.426682</td>\n",
       "      <td>13.940304</td>\n",
       "      <td>1.843186</td>\n",
       "      <td>3.722923</td>\n",
       "    </tr>\n",
       "    <tr>\n",
       "      <th>8</th>\n",
       "      <td>(0.139, 0.17]</td>\n",
       "      <td>41192</td>\n",
       "      <td>692</td>\n",
       "      <td>41883</td>\n",
       "      <td>361848</td>\n",
       "      <td>15104</td>\n",
       "      <td>9.999857</td>\n",
       "      <td>89.697330</td>\n",
       "      <td>97.912615</td>\n",
       "      <td>8.215285</td>\n",
       "      <td>1.652222</td>\n",
       "      <td>3.794734</td>\n",
       "    </tr>\n",
       "    <tr>\n",
       "      <th>9</th>\n",
       "      <td>(-0.001, 0.139]</td>\n",
       "      <td>41562</td>\n",
       "      <td>322</td>\n",
       "      <td>41884</td>\n",
       "      <td>403410</td>\n",
       "      <td>15426</td>\n",
       "      <td>10.000096</td>\n",
       "      <td>100.000000</td>\n",
       "      <td>100.000000</td>\n",
       "      <td>0.000000</td>\n",
       "      <td>0.768790</td>\n",
       "      <td>1.979857</td>\n",
       "    </tr>\n",
       "    <tr>\n",
       "      <th>10</th>\n",
       "      <td>Total</td>\n",
       "      <td>403410</td>\n",
       "      <td>15426</td>\n",
       "      <td>418836</td>\n",
       "      <td>403410</td>\n",
       "      <td>15426</td>\n",
       "      <td>100.000000</td>\n",
       "      <td>100.000000</td>\n",
       "      <td>100.000000</td>\n",
       "      <td>0.000000</td>\n",
       "      <td>3.683064</td>\n",
       "      <td>NaN</td>\n",
       "    </tr>\n",
       "  </tbody>\n",
       "</table>\n",
       "</div>"
      ],
      "text/plain": [
       "index             band  NonEvent  Event   Total  cum_nonevent  cum_event  \\\n",
       "0         (0.391, 1.0]     37763   4121   41884         37763       4121   \n",
       "1       (0.334, 0.391]     39425   2458   41884         77188       6579   \n",
       "2       (0.297, 0.334]     39928   1954   41883        117116       8533   \n",
       "3       (0.271, 0.297]     40341   1544   41885        157457      10077   \n",
       "4       (0.246, 0.271]     40505   1379   41882        197962      11456   \n",
       "5       (0.223, 0.246]     40737   1146   41883        238699      12602   \n",
       "6       (0.199, 0.223]     40846   1038   41884        279545      13640   \n",
       "7        (0.17, 0.199]     41111    772   41884        320656      14412   \n",
       "8        (0.139, 0.17]     41192    692   41883        361848      15104   \n",
       "9      (-0.001, 0.139]     41562    322   41884        403410      15426   \n",
       "10               Total    403410  15426  418836        403410      15426   \n",
       "\n",
       "index  population_%  cum_nonevent_%  cum_event_%  difference  event_rate  \\\n",
       "0         10.000096        9.360948    26.714638   17.353690    9.839079   \n",
       "1         10.000096       19.133884    42.648775   23.514891    5.868589   \n",
       "2          9.999857       29.031506    55.315701   26.284194    4.665377   \n",
       "3         10.000334       39.031506    65.324776   26.293270    3.686284   \n",
       "4          9.999618       49.072160    74.264229   25.192069    3.292584   \n",
       "5          9.999857       59.170323    81.693245   22.522922    2.736194   \n",
       "6         10.000096       69.295506    88.422144   19.126639    2.478273   \n",
       "7         10.000096       79.486379    93.426682   13.940304    1.843186   \n",
       "8          9.999857       89.697330    97.912615    8.215285    1.652222   \n",
       "9         10.000096      100.000000   100.000000    0.000000    0.768790   \n",
       "10       100.000000      100.000000   100.000000    0.000000    3.683064   \n",
       "\n",
       "index      gini  \n",
       "0      1.250372  \n",
       "1      2.270203  \n",
       "2      3.050537  \n",
       "3      3.406239  \n",
       "4      3.937993  \n",
       "5      4.020676  \n",
       "6      4.322168  \n",
       "7      3.722923  \n",
       "8      3.794734  \n",
       "9      1.979857  \n",
       "10          NaN  "
      ]
     },
     "execution_count": 24,
     "metadata": {},
     "output_type": "execute_result"
    }
   ],
   "source": [
    "gini_table"
   ]
  },
  {
   "cell_type": "code",
   "execution_count": 25,
   "metadata": {},
   "outputs": [
    {
     "data": {
      "text/plain": [
       "36.48859851202443"
      ]
     },
     "execution_count": 25,
     "metadata": {},
     "output_type": "execute_result"
    },
    {
     "data": {
      "text/plain": [
       "26.29326994374128"
      ]
     },
     "execution_count": 25,
     "metadata": {},
     "output_type": "execute_result"
    }
   ],
   "source": [
    "gini_val\n",
    "ks"
   ]
  },
  {
   "cell_type": "code",
   "execution_count": 26,
   "metadata": {},
   "outputs": [
    {
     "data": {
      "image/png": "[encoded data removed]",
      "text/plain": [
       "<Figure size 432x288 with 1 Axes>"
      ]
     },
     "execution_count": 26,
     "metadata": {},
     "output_type": "execute_result"
    }
   ],
   "source": [
    "gini_curve"
   ]
  },
  {
   "cell_type": "code",
   "execution_count": null,
   "metadata": {},
   "outputs": [],
   "source": []
  },
  {
   "cell_type": "markdown",
   "metadata": {},
   "source": [
    "# _THE END_"
   ]
  },
  {
   "cell_type": "code",
   "execution_count": null,
   "metadata": {},
   "outputs": [],
   "source": []
  },
  {
   "cell_type": "code",
   "execution_count": null,
   "metadata": {},
   "outputs": [],
   "source": []
  },
  {
   "cell_type": "code",
   "execution_count": null,
   "metadata": {},
   "outputs": [],
   "source": []
  },
  {
   "cell_type": "code",
   "execution_count": null,
   "metadata": {},
   "outputs": [],
   "source": []
  },
  {
   "cell_type": "code",
   "execution_count": 5,
   "metadata": {},
   "outputs": [
    {
     "data": {
      "text/plain": [
       "array([-0.001     ,  0.13869719,  0.17040782,  0.19858352,  0.22296014,\n",
       "        0.24624969,  0.2709148 ,  0.2966129 ,  0.33350673,  0.39089159,\n",
       "        1.        ])"
      ]
     },
     "execution_count": 5,
     "metadata": {},
     "output_type": "execute_result"
    }
   ],
   "source": [
    "bin = 10\n",
    "qnt = np.quantile(df.pred,q=np.linspace(0, 1, bin+1),axis=0)\n",
    "qnt[0] = -0.001\n",
    "qnt[bin] = 1\n",
    "qnt"
   ]
  },
  {
   "cell_type": "code",
   "execution_count": 6,
   "metadata": {},
   "outputs": [],
   "source": [
    "df['band'] = pd.cut(df['pred'], qnt)"
   ]
  },
  {
   "cell_type": "code",
   "execution_count": 17,
   "metadata": {},
   "outputs": [],
   "source": [
    "df_ct = pd.crosstab(index=df['band'],columns=df['target'],margins=True, margins_name=\"Total\",\\\n",
    "            rownames=['band'], colnames=['index'])\n",
    "df_ct.reset_index(inplace=True)\n",
    "df_ct.rename({1 : 'Event' , 0 : 'NonEvent'},axis = 1,inplace=True)"
   ]
  },
  {
   "cell_type": "code",
   "execution_count": 36,
   "metadata": {},
   "outputs": [],
   "source": [
    "df_ct_tot = df_ct.loc[bin]\n",
    "df_ct = df_ct.drop(bin)[::-1]\n",
    "df_ct.loc[bin] = df_ct_tot\n",
    "df_ct.reset_index(drop= True, inplace = True)"
   ]
  },
  {
   "cell_type": "code",
   "execution_count": 38,
   "metadata": {},
   "outputs": [
    {
     "data": {
      "text/html": [
       "<div>\n",
       "<style scoped>\n",
       "    .dataframe tbody tr th:only-of-type {\n",
       "        vertical-align: middle;\n",
       "    }\n",
       "\n",
       "    .dataframe tbody tr th {\n",
       "        vertical-align: top;\n",
       "    }\n",
       "\n",
       "    .dataframe thead th {\n",
       "        text-align: right;\n",
       "    }\n",
       "</style>\n",
       "<table border=\"1\" class=\"dataframe\">\n",
       "  <thead>\n",
       "    <tr style=\"text-align: right;\">\n",
       "      <th>index</th>\n",
       "      <th>band</th>\n",
       "      <th>NonEvent</th>\n",
       "      <th>Event</th>\n",
       "      <th>Total</th>\n",
       "    </tr>\n",
       "  </thead>\n",
       "  <tbody>\n",
       "    <tr>\n",
       "      <th>0</th>\n",
       "      <td>(0.391, 1.0]</td>\n",
       "      <td>37763</td>\n",
       "      <td>4121</td>\n",
       "      <td>41884</td>\n",
       "    </tr>\n",
       "    <tr>\n",
       "      <th>1</th>\n",
       "      <td>(0.334, 0.391]</td>\n",
       "      <td>39425</td>\n",
       "      <td>2458</td>\n",
       "      <td>41884</td>\n",
       "    </tr>\n",
       "    <tr>\n",
       "      <th>2</th>\n",
       "      <td>(0.297, 0.334]</td>\n",
       "      <td>39928</td>\n",
       "      <td>1954</td>\n",
       "      <td>41883</td>\n",
       "    </tr>\n",
       "    <tr>\n",
       "      <th>3</th>\n",
       "      <td>(0.271, 0.297]</td>\n",
       "      <td>40341</td>\n",
       "      <td>1544</td>\n",
       "      <td>41885</td>\n",
       "    </tr>\n",
       "    <tr>\n",
       "      <th>4</th>\n",
       "      <td>(0.246, 0.271]</td>\n",
       "      <td>40505</td>\n",
       "      <td>1379</td>\n",
       "      <td>41882</td>\n",
       "    </tr>\n",
       "    <tr>\n",
       "      <th>5</th>\n",
       "      <td>(0.223, 0.246]</td>\n",
       "      <td>40737</td>\n",
       "      <td>1146</td>\n",
       "      <td>41883</td>\n",
       "    </tr>\n",
       "    <tr>\n",
       "      <th>6</th>\n",
       "      <td>(0.199, 0.223]</td>\n",
       "      <td>40846</td>\n",
       "      <td>1038</td>\n",
       "      <td>41884</td>\n",
       "    </tr>\n",
       "    <tr>\n",
       "      <th>7</th>\n",
       "      <td>(0.17, 0.199]</td>\n",
       "      <td>41111</td>\n",
       "      <td>772</td>\n",
       "      <td>41884</td>\n",
       "    </tr>\n",
       "    <tr>\n",
       "      <th>8</th>\n",
       "      <td>(0.139, 0.17]</td>\n",
       "      <td>41192</td>\n",
       "      <td>692</td>\n",
       "      <td>41883</td>\n",
       "    </tr>\n",
       "    <tr>\n",
       "      <th>9</th>\n",
       "      <td>(-0.001, 0.139]</td>\n",
       "      <td>41562</td>\n",
       "      <td>322</td>\n",
       "      <td>41884</td>\n",
       "    </tr>\n",
       "    <tr>\n",
       "      <th>10</th>\n",
       "      <td>Total</td>\n",
       "      <td>403410</td>\n",
       "      <td>15426</td>\n",
       "      <td>418836</td>\n",
       "    </tr>\n",
       "  </tbody>\n",
       "</table>\n",
       "</div>"
      ],
      "text/plain": [
       "index             band  NonEvent  Event   Total\n",
       "0         (0.391, 1.0]     37763   4121   41884\n",
       "1       (0.334, 0.391]     39425   2458   41884\n",
       "2       (0.297, 0.334]     39928   1954   41883\n",
       "3       (0.271, 0.297]     40341   1544   41885\n",
       "4       (0.246, 0.271]     40505   1379   41882\n",
       "5       (0.223, 0.246]     40737   1146   41883\n",
       "6       (0.199, 0.223]     40846   1038   41884\n",
       "7        (0.17, 0.199]     41111    772   41884\n",
       "8        (0.139, 0.17]     41192    692   41883\n",
       "9      (-0.001, 0.139]     41562    322   41884\n",
       "10               Total    403410  15426  418836"
      ]
     },
     "execution_count": 38,
     "metadata": {},
     "output_type": "execute_result"
    }
   ],
   "source": [
    "df_ct"
   ]
  },
  {
   "cell_type": "code",
   "execution_count": 48,
   "metadata": {},
   "outputs": [
    {
     "data": {
      "text/plain": [
       "Index(['band', 'NonEvent', 'Event', 'Total', 'cum_nonevent', 'cum_event',\n",
       "       'population_%', 'cum_nonevent_%', 'cum_event_%', 'difference',\n",
       "       'event_rate', 'gini'],\n",
       "      dtype='object', name='index')"
      ]
     },
     "execution_count": 48,
     "metadata": {},
     "output_type": "execute_result"
    }
   ],
   "source": [
    "df_ct.columns"
   ]
  },
  {
   "cell_type": "code",
   "execution_count": 59,
   "metadata": {},
   "outputs": [],
   "source": [
    "df_ct['cum_nonevent'] = df_ct.NonEvent.cumsum()\n",
    "df_ct.loc[bin,'cum_nonevent'] = df_ct.loc[bin, 'NonEvent']\n",
    "\n",
    "df_ct['cum_event'] = df_ct.Event.cumsum()\n",
    "df_ct.loc[bin,'cum_event'] = df_ct.loc[bin, 'Event']"
   ]
  },
  {
   "cell_type": "code",
   "execution_count": 81,
   "metadata": {},
   "outputs": [],
   "source": [
    "df_ct['population_%'] = 100*(df_ct['Total']/df_ct.loc[bin,'Total'])\n",
    "df_ct['cum_nonevent_%'] = 100*(df_ct['cum_nonevent']/df_ct.loc[bin,'NonEvent'])\n",
    "df_ct['cum_event_%'] = 100*(df_ct['cum_event']/df_ct.loc[bin,'Event'])\n",
    "df_ct['difference'] = df_ct['cum_event_%'] - df_ct['cum_nonevent_%']\n",
    "df_ct['event_rate'] = 100*(df_ct['Event']/df_ct.Total)"
   ]
  },
  {
   "cell_type": "code",
   "execution_count": 101,
   "metadata": {},
   "outputs": [],
   "source": [
    "df_ct['gini'] = np.nan\n",
    "for i in range(bin):\n",
    "    if(i == 0):\n",
    "        df_ct['gini'][i] = df_ct['cum_nonevent_%'][i] * df_ct['cum_event_%'][i] * 0.5*0.01\n",
    "    if(i > 0):\n",
    "         df_ct['gini'][i] = (df_ct['cum_nonevent_%'][i] + df_ct['cum_nonevent_%'][i-1])* (df_ct['cum_event_%'][i] - df_ct['cum_event_%'][i-1])*0.5*0.01\n",
    "                                "
   ]
  },
  {
   "cell_type": "code",
   "execution_count": 103,
   "metadata": {},
   "outputs": [
    {
     "data": {
      "text/html": [
       "<div>\n",
       "<style scoped>\n",
       "    .dataframe tbody tr th:only-of-type {\n",
       "        vertical-align: middle;\n",
       "    }\n",
       "\n",
       "    .dataframe tbody tr th {\n",
       "        vertical-align: top;\n",
       "    }\n",
       "\n",
       "    .dataframe thead th {\n",
       "        text-align: right;\n",
       "    }\n",
       "</style>\n",
       "<table border=\"1\" class=\"dataframe\">\n",
       "  <thead>\n",
       "    <tr style=\"text-align: right;\">\n",
       "      <th>index</th>\n",
       "      <th>band</th>\n",
       "      <th>NonEvent</th>\n",
       "      <th>Event</th>\n",
       "      <th>Total</th>\n",
       "      <th>cum_nonevent</th>\n",
       "      <th>cum_event</th>\n",
       "      <th>population_%</th>\n",
       "      <th>cum_nonevent_%</th>\n",
       "      <th>cum_event_%</th>\n",
       "      <th>difference</th>\n",
       "      <th>event_rate</th>\n",
       "      <th>gini</th>\n",
       "    </tr>\n",
       "  </thead>\n",
       "  <tbody>\n",
       "    <tr>\n",
       "      <th>0</th>\n",
       "      <td>(0.391, 1.0]</td>\n",
       "      <td>37763</td>\n",
       "      <td>4121</td>\n",
       "      <td>41884</td>\n",
       "      <td>37763</td>\n",
       "      <td>4121</td>\n",
       "      <td>10.000096</td>\n",
       "      <td>9.360948</td>\n",
       "      <td>26.714638</td>\n",
       "      <td>17.353690</td>\n",
       "      <td>9.839079</td>\n",
       "      <td>1.250372</td>\n",
       "    </tr>\n",
       "    <tr>\n",
       "      <th>1</th>\n",
       "      <td>(0.334, 0.391]</td>\n",
       "      <td>39425</td>\n",
       "      <td>2458</td>\n",
       "      <td>41884</td>\n",
       "      <td>77188</td>\n",
       "      <td>6579</td>\n",
       "      <td>10.000096</td>\n",
       "      <td>19.133884</td>\n",
       "      <td>42.648775</td>\n",
       "      <td>23.514891</td>\n",
       "      <td>5.868589</td>\n",
       "      <td>2.270203</td>\n",
       "    </tr>\n",
       "    <tr>\n",
       "      <th>2</th>\n",
       "      <td>(0.297, 0.334]</td>\n",
       "      <td>39928</td>\n",
       "      <td>1954</td>\n",
       "      <td>41883</td>\n",
       "      <td>117116</td>\n",
       "      <td>8533</td>\n",
       "      <td>9.999857</td>\n",
       "      <td>29.031506</td>\n",
       "      <td>55.315701</td>\n",
       "      <td>26.284194</td>\n",
       "      <td>4.665377</td>\n",
       "      <td>3.050537</td>\n",
       "    </tr>\n",
       "    <tr>\n",
       "      <th>3</th>\n",
       "      <td>(0.271, 0.297]</td>\n",
       "      <td>40341</td>\n",
       "      <td>1544</td>\n",
       "      <td>41885</td>\n",
       "      <td>157457</td>\n",
       "      <td>10077</td>\n",
       "      <td>10.000334</td>\n",
       "      <td>39.031506</td>\n",
       "      <td>65.324776</td>\n",
       "      <td>26.293270</td>\n",
       "      <td>3.686284</td>\n",
       "      <td>3.406239</td>\n",
       "    </tr>\n",
       "    <tr>\n",
       "      <th>4</th>\n",
       "      <td>(0.246, 0.271]</td>\n",
       "      <td>40505</td>\n",
       "      <td>1379</td>\n",
       "      <td>41882</td>\n",
       "      <td>197962</td>\n",
       "      <td>11456</td>\n",
       "      <td>9.999618</td>\n",
       "      <td>49.072160</td>\n",
       "      <td>74.264229</td>\n",
       "      <td>25.192069</td>\n",
       "      <td>3.292584</td>\n",
       "      <td>3.937993</td>\n",
       "    </tr>\n",
       "    <tr>\n",
       "      <th>5</th>\n",
       "      <td>(0.223, 0.246]</td>\n",
       "      <td>40737</td>\n",
       "      <td>1146</td>\n",
       "      <td>41883</td>\n",
       "      <td>238699</td>\n",
       "      <td>12602</td>\n",
       "      <td>9.999857</td>\n",
       "      <td>59.170323</td>\n",
       "      <td>81.693245</td>\n",
       "      <td>22.522922</td>\n",
       "      <td>2.736194</td>\n",
       "      <td>4.020676</td>\n",
       "    </tr>\n",
       "    <tr>\n",
       "      <th>6</th>\n",
       "      <td>(0.199, 0.223]</td>\n",
       "      <td>40846</td>\n",
       "      <td>1038</td>\n",
       "      <td>41884</td>\n",
       "      <td>279545</td>\n",
       "      <td>13640</td>\n",
       "      <td>10.000096</td>\n",
       "      <td>69.295506</td>\n",
       "      <td>88.422144</td>\n",
       "      <td>19.126639</td>\n",
       "      <td>2.478273</td>\n",
       "      <td>4.322168</td>\n",
       "    </tr>\n",
       "    <tr>\n",
       "      <th>7</th>\n",
       "      <td>(0.17, 0.199]</td>\n",
       "      <td>41111</td>\n",
       "      <td>772</td>\n",
       "      <td>41884</td>\n",
       "      <td>320656</td>\n",
       "      <td>14412</td>\n",
       "      <td>10.000096</td>\n",
       "      <td>79.486379</td>\n",
       "      <td>93.426682</td>\n",
       "      <td>13.940304</td>\n",
       "      <td>1.843186</td>\n",
       "      <td>3.722923</td>\n",
       "    </tr>\n",
       "    <tr>\n",
       "      <th>8</th>\n",
       "      <td>(0.139, 0.17]</td>\n",
       "      <td>41192</td>\n",
       "      <td>692</td>\n",
       "      <td>41883</td>\n",
       "      <td>361848</td>\n",
       "      <td>15104</td>\n",
       "      <td>9.999857</td>\n",
       "      <td>89.697330</td>\n",
       "      <td>97.912615</td>\n",
       "      <td>8.215285</td>\n",
       "      <td>1.652222</td>\n",
       "      <td>3.794734</td>\n",
       "    </tr>\n",
       "    <tr>\n",
       "      <th>9</th>\n",
       "      <td>(-0.001, 0.139]</td>\n",
       "      <td>41562</td>\n",
       "      <td>322</td>\n",
       "      <td>41884</td>\n",
       "      <td>403410</td>\n",
       "      <td>15426</td>\n",
       "      <td>10.000096</td>\n",
       "      <td>100.000000</td>\n",
       "      <td>100.000000</td>\n",
       "      <td>0.000000</td>\n",
       "      <td>0.768790</td>\n",
       "      <td>1.979857</td>\n",
       "    </tr>\n",
       "    <tr>\n",
       "      <th>10</th>\n",
       "      <td>Total</td>\n",
       "      <td>403410</td>\n",
       "      <td>15426</td>\n",
       "      <td>418836</td>\n",
       "      <td>403410</td>\n",
       "      <td>15426</td>\n",
       "      <td>100.000000</td>\n",
       "      <td>100.000000</td>\n",
       "      <td>100.000000</td>\n",
       "      <td>0.000000</td>\n",
       "      <td>3.683064</td>\n",
       "      <td>NaN</td>\n",
       "    </tr>\n",
       "  </tbody>\n",
       "</table>\n",
       "</div>"
      ],
      "text/plain": [
       "index             band  NonEvent  Event   Total  cum_nonevent  cum_event  \\\n",
       "0         (0.391, 1.0]     37763   4121   41884         37763       4121   \n",
       "1       (0.334, 0.391]     39425   2458   41884         77188       6579   \n",
       "2       (0.297, 0.334]     39928   1954   41883        117116       8533   \n",
       "3       (0.271, 0.297]     40341   1544   41885        157457      10077   \n",
       "4       (0.246, 0.271]     40505   1379   41882        197962      11456   \n",
       "5       (0.223, 0.246]     40737   1146   41883        238699      12602   \n",
       "6       (0.199, 0.223]     40846   1038   41884        279545      13640   \n",
       "7        (0.17, 0.199]     41111    772   41884        320656      14412   \n",
       "8        (0.139, 0.17]     41192    692   41883        361848      15104   \n",
       "9      (-0.001, 0.139]     41562    322   41884        403410      15426   \n",
       "10               Total    403410  15426  418836        403410      15426   \n",
       "\n",
       "index  population_%  cum_nonevent_%  cum_event_%  difference  event_rate  \\\n",
       "0         10.000096        9.360948    26.714638   17.353690    9.839079   \n",
       "1         10.000096       19.133884    42.648775   23.514891    5.868589   \n",
       "2          9.999857       29.031506    55.315701   26.284194    4.665377   \n",
       "3         10.000334       39.031506    65.324776   26.293270    3.686284   \n",
       "4          9.999618       49.072160    74.264229   25.192069    3.292584   \n",
       "5          9.999857       59.170323    81.693245   22.522922    2.736194   \n",
       "6         10.000096       69.295506    88.422144   19.126639    2.478273   \n",
       "7         10.000096       79.486379    93.426682   13.940304    1.843186   \n",
       "8          9.999857       89.697330    97.912615    8.215285    1.652222   \n",
       "9         10.000096      100.000000   100.000000    0.000000    0.768790   \n",
       "10       100.000000      100.000000   100.000000    0.000000    3.683064   \n",
       "\n",
       "index      gini  \n",
       "0      1.250372  \n",
       "1      2.270203  \n",
       "2      3.050537  \n",
       "3      3.406239  \n",
       "4      3.937993  \n",
       "5      4.020676  \n",
       "6      4.322168  \n",
       "7      3.722923  \n",
       "8      3.794734  \n",
       "9      1.979857  \n",
       "10          NaN  "
      ]
     },
     "execution_count": 103,
     "metadata": {},
     "output_type": "execute_result"
    }
   ],
   "source": [
    "df_ct"
   ]
  },
  {
   "cell_type": "code",
   "execution_count": 19,
   "metadata": {},
   "outputs": [],
   "source": [
    "plt.show()"
   ]
  },
  {
   "cell_type": "code",
   "execution_count": 16,
   "metadata": {},
   "outputs": [
    {
     "data": {
      "text/plain": [
       "<Figure size 432x288 with 0 Axes>"
      ]
     },
     "execution_count": 16,
     "metadata": {},
     "output_type": "execute_result"
    },
    {
     "data": {
      "text/plain": [
       "<matplotlib.axes._subplots.AxesSubplot at 0x7f8b2c6c8cf8>"
      ]
     },
     "execution_count": 16,
     "metadata": {},
     "output_type": "execute_result"
    },
    {
     "data": {
      "text/plain": [
       "[<matplotlib.lines.Line2D at 0x7f8b2c6d4048>]"
      ]
     },
     "execution_count": 16,
     "metadata": {},
     "output_type": "execute_result"
    },
    {
     "data": {
      "text/plain": [
       "[<matplotlib.lines.Line2D at 0x7f8b2c025470>]"
      ]
     },
     "execution_count": 16,
     "metadata": {},
     "output_type": "execute_result"
    },
    {
     "data": {
      "image/png": "[encoded data removed]",
      "text/plain": [
       "<Figure size 432x288 with 1 Axes>"
      ]
     },
     "metadata": {},
     "output_type": "display_data"
    }
   ],
   "source": [
    "bin =10\n",
    "import matplotlib.pyplot as plt \n",
    "x = pd.Series(0).append(gini_table['cum_nonevent_%']).drop(bin).reset_index(drop=True)\n",
    "y = pd.Series(0).append(gini_table['cum_event_%']).drop(bin).reset_index(drop=True)\n",
    "plt.figure()\n",
    "plt.subplot(1, 1, 1)\n",
    "plt.plot(x, y)\n",
    "plt.plot(x, x)"
   ]
  },
  {
   "cell_type": "code",
   "execution_count": 14,
   "metadata": {},
   "outputs": [
    {
     "ename": "NameError",
     "evalue": "name 'df_ct' is not defined",
     "output_type": "error",
     "traceback": [
      "\u001b[0;31m---------------------------------------------------------------------------\u001b[0m",
      "\u001b[0;31mNameError\u001b[0m                                 Traceback (most recent call last)",
      "\u001b[0;32m<ipython-input-14-9add32928b0b>\u001b[0m in \u001b[0;36m<module>\u001b[0;34m()\u001b[0m\n\u001b[1;32m      1\u001b[0m \u001b[0;32mimport\u001b[0m \u001b[0mmatplotlib\u001b[0m\u001b[0;34m.\u001b[0m\u001b[0mpyplot\u001b[0m \u001b[0;32mas\u001b[0m \u001b[0mplt\u001b[0m\u001b[0;34m\u001b[0m\u001b[0m\n\u001b[0;32m----> 2\u001b[0;31m \u001b[0mx\u001b[0m \u001b[0;34m=\u001b[0m \u001b[0mpd\u001b[0m\u001b[0;34m.\u001b[0m\u001b[0mSeries\u001b[0m\u001b[0;34m(\u001b[0m\u001b[0;36m0\u001b[0m\u001b[0;34m)\u001b[0m\u001b[0;34m.\u001b[0m\u001b[0mappend\u001b[0m\u001b[0;34m(\u001b[0m\u001b[0mdf_ct\u001b[0m\u001b[0;34m[\u001b[0m\u001b[0;34m'cum_nonevent_%'\u001b[0m\u001b[0;34m]\u001b[0m\u001b[0;34m)\u001b[0m\u001b[0;34m.\u001b[0m\u001b[0mdrop\u001b[0m\u001b[0;34m(\u001b[0m\u001b[0mbin\u001b[0m\u001b[0;34m)\u001b[0m\u001b[0;34m.\u001b[0m\u001b[0mreset_index\u001b[0m\u001b[0;34m(\u001b[0m\u001b[0mdrop\u001b[0m\u001b[0;34m=\u001b[0m\u001b[0;32mTrue\u001b[0m\u001b[0;34m)\u001b[0m\u001b[0;34m\u001b[0m\u001b[0m\n\u001b[0m\u001b[1;32m      3\u001b[0m \u001b[0my\u001b[0m \u001b[0;34m=\u001b[0m \u001b[0mpd\u001b[0m\u001b[0;34m.\u001b[0m\u001b[0mSeries\u001b[0m\u001b[0;34m(\u001b[0m\u001b[0;36m0\u001b[0m\u001b[0;34m)\u001b[0m\u001b[0;34m.\u001b[0m\u001b[0mappend\u001b[0m\u001b[0;34m(\u001b[0m\u001b[0mdf_ct\u001b[0m\u001b[0;34m[\u001b[0m\u001b[0;34m'cum_event_%'\u001b[0m\u001b[0;34m]\u001b[0m\u001b[0;34m)\u001b[0m\u001b[0;34m.\u001b[0m\u001b[0mdrop\u001b[0m\u001b[0;34m(\u001b[0m\u001b[0mbin\u001b[0m\u001b[0;34m)\u001b[0m\u001b[0;34m.\u001b[0m\u001b[0mreset_index\u001b[0m\u001b[0;34m(\u001b[0m\u001b[0mdrop\u001b[0m\u001b[0;34m=\u001b[0m\u001b[0;32mTrue\u001b[0m\u001b[0;34m)\u001b[0m\u001b[0;34m\u001b[0m\u001b[0m\n\u001b[1;32m      4\u001b[0m \u001b[0mplt\u001b[0m\u001b[0;34m.\u001b[0m\u001b[0mfigure\u001b[0m\u001b[0;34m(\u001b[0m\u001b[0;34m)\u001b[0m\u001b[0;34m\u001b[0m\u001b[0m\n\u001b[1;32m      5\u001b[0m \u001b[0mplt\u001b[0m\u001b[0;34m.\u001b[0m\u001b[0msubplot\u001b[0m\u001b[0;34m(\u001b[0m\u001b[0;36m1\u001b[0m\u001b[0;34m,\u001b[0m \u001b[0;36m1\u001b[0m\u001b[0;34m,\u001b[0m \u001b[0;36m1\u001b[0m\u001b[0;34m)\u001b[0m\u001b[0;34m\u001b[0m\u001b[0m\n",
      "\u001b[0;31mNameError\u001b[0m: name 'df_ct' is not defined"
     ]
    }
   ],
   "source": [
    "import matplotlib.pyplot as plt \n",
    "x = pd.Series(0).append(df_ct['cum_nonevent_%']).drop(bin).reset_index(drop=True)\n",
    "y = pd.Series(0).append(df_ct['cum_event_%']).drop(bin).reset_index(drop=True)\n",
    "plt.figure()\n",
    "plt.subplot(1, 1, 1)\n",
    "plt.plot(x, y)\n",
    "plt.plot(x, x)"
   ]
  },
  {
   "cell_type": "code",
   "execution_count": 134,
   "metadata": {
    "scrolled": true
   },
   "outputs": [
    {
     "data": {
      "text/plain": [
       "[<matplotlib.lines.Line2D at 0x7fa0453a4860>]"
      ]
     },
     "execution_count": 134,
     "metadata": {},
     "output_type": "execute_result"
    },
    {
     "data": {
      "text/plain": [
       "(0, 103.66426811876053)"
      ]
     },
     "execution_count": 134,
     "metadata": {},
     "output_type": "execute_result"
    },
    {
     "data": {
      "image/png": "[encoded data removed]",
      "text/plain": [
       "<Figure size 432x288 with 1 Axes>"
      ]
     },
     "metadata": {},
     "output_type": "display_data"
    }
   ],
   "source": [
    "import matplotlib.pyplot as plt\n",
    "f, ax = plt.subplots(1)\n",
    "xdata = df_ct['cum_nonevent_%']\n",
    "ydata = df_ct['cum_event_%']\n",
    "ax.plot(xdata, ydata)\n",
    "ax.set_ylim(bottom=0)\n",
    "plt.show(f)\n"
   ]
  },
  {
   "cell_type": "code",
   "execution_count": 133,
   "metadata": {},
   "outputs": [
    {
     "data": {
      "text/plain": [
       "(0, 1.0)"
      ]
     },
     "execution_count": 133,
     "metadata": {},
     "output_type": "execute_result"
    },
    {
     "data": {
      "image/png": "[encoded data removed]",
      "text/plain": [
       "<Figure size 432x288 with 1 Axes>"
      ]
     },
     "metadata": {},
     "output_type": "display_data"
    }
   ],
   "source": [
    "plt.ylim(bottom=0)"
   ]
  },
  {
   "cell_type": "code",
   "execution_count": null,
   "metadata": {},
   "outputs": [],
   "source": [
    "v = np.random.rand(500)\n",
    "bins, result, gini_val = G(v)\n",
    "plt.figure()\n",
    "plt.subplot(2, 1, 1)\n",
    "plt.plot(bins, result, label=\"observed\")\n",
    "plt.plot(bins, bins, '--', label=\"perfect eq.\")\n",
    "plt.xlabel(\"fraction of population\")\n",
    "plt.ylabel(\"fraction of wealth\")\n",
    "plt.title(\"GINI: %.4f\" %(gini_val))\n",
    "plt.legend()\n",
    "plt.subplot(2, 1, 2)\n",
    "plt.hist(v, bins=20)"
   ]
  },
  {
   "cell_type": "code",
   "execution_count": null,
   "metadata": {},
   "outputs": [],
   "source": []
  }
 ],
 "metadata": {
  "kernelspec": {
   "display_name": "Python 3",
   "language": "python",
   "name": "python3"
  },
  "language_info": {
   "codemirror_mode": {
    "name": "ipython",
    "version": 3
   },
   "file_extension": ".py",
   "mimetype": "text/x-python",
   "name": "python",
   "nbconvert_exporter": "python",
   "pygments_lexer": "ipython3",
   "version": "3.6.5"
  }
 },
 "nbformat": 4,
 "nbformat_minor": 2
}
