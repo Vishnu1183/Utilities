{
 "cells": [
  {
   "cell_type": "markdown",
   "metadata": {},
   "source": [
    "<font size=\"5\"><center><h2>Intro To Python For DataScience</h2></center></font>\n"
   ]
  },
  {
   "cell_type": "markdown",
   "metadata": {},
   "source": [
    "<h1><font size=\"5\">About Python-</font></h1>\n",
    "\n",
    "* Created By Guido Van Rossum\n",
    "* First released in 1991\n",
    "* Interpreted, high-level, general-purpose programming language\n",
    "* Purpose: build anything\n",
    "* It is Open Source\n",
    "* Python Packages like numpy, pandas, scikit learn available for Data Science"
   ]
  },
  {
   "cell_type": "markdown",
   "metadata": {},
   "source": [
    "### Installing Python"
   ]
  },
  {
   "cell_type": "markdown",
   "metadata": {},
   "source": [
    "![XYZ](Untitled.png)"
   ]
  },
  {
   "cell_type": "markdown",
   "metadata": {},
   "source": [
    "<h3>Expressions in Python </h3>\n",
    "\n",
    "   * <h6>In python, 2 + 3 is an example of basic expression</h6>\n",
    "   * <h6>Expression has values & operators</h6>\n",
    "   * <h6>Expressions always reduce down to a single value</h6>\n",
    "   * <h6>The operators and values are put together as per python rules</h6>"
   ]
  },
  {
   "cell_type": "markdown",
   "metadata": {},
   "source": [
    "<h3><center> Math Operators from Highest to Lowest Precedence</center></h3>\n",
    "\n",
    "| Operator | Operation                        | Example | Evaluates to… |\n",
    "|----------|----------------------------------|---------|---------------|\n",
    "| **       | Exponent                         | `2**3   | 8             |\n",
    "| %        | Modulus/remainder                | 23%6    | 5             |\n",
    "| //       | Integer division                 | 23//6   | 3             |\n",
    "| /        | Division                         | 23/6    | 3.83          |\n",
    "| *        | Multiplication                   | 2*6     | 12            |\n",
    "| -        | Subtraction                      | `6-2    | 4             |\n",
    "| +        | Addition                         | 6+2     | 8             |"
   ]
  },
  {
   "cell_type": "markdown",
   "metadata": {},
   "source": [
    "### The values in an expression can have various data types"
   ]
  },
  {
   "cell_type": "markdown",
   "metadata": {},
   "source": [
    "<h3><center>Common Data Types</center></h3>\n",
    "\n",
    "| Data type              | Examples                  |\n",
    "|------------------------|---------------------------|\n",
    "| Integers               | `-1, -2,  0 , 1, 3 , 5    |\n",
    "| Floating-point numbers | `-1.34, -1.0, 0.0, 3.45   |\n",
    "| Strings                | Hello', 'PYTHON', 'LeArN' |\n",
    "| Bool                   | True , False              |"
   ]
  },
  {
   "cell_type": "code",
   "execution_count": null,
   "metadata": {},
   "outputs": [],
   "source": [
    "lists dicts tuple\n",
    "The Integer, Floating-Point, and String Data Types\n",
    "\n",
    "structure of df\n",
    "loading of data\n",
    "dtypes \n",
    "missing value countrs and treatment\n",
    "group by summarise\n",
    "data type conversion\n",
    "basic operations logical as well as arithmetic\n"
   ]
  },
  {
   "cell_type": "markdown",
   "metadata": {},
   "source": [
    "<h2>Data Structures and Sequences</h2>\n",
    "\n",
    "* <h3>Tuple</h3>\n",
    "* <h3>List</h3>\n",
    "* <h3>Dictionary</h3>\n"
   ]
  },
  {
   "cell_type": "markdown",
   "metadata": {},
   "source": [
    "<h3>List</h3>\n",
    "\n",
    "* Contains multiple values in an ordered sequence. \n",
    "* Can be stored in a variable or passed to a function.\n",
    "* Values inside lists are called items.\n",
    "* Items in a list are separated by comma and can have different data types.\n",
    "* e.g. list1 = [ 'abc', 1, 1.50, True ]\n",
    "* Items of a list can be accessed using index starting from 0.\n",
    "* Basic operations on list are as follows"
   ]
  },
  {
   "cell_type": "markdown",
   "metadata": {},
   "source": [
    "### Accessing elements of list"
   ]
  },
  {
   "cell_type": "code",
   "execution_count": 22,
   "metadata": {},
   "outputs": [
    {
     "name": "stdout",
     "output_type": "stream",
     "text": [
      "Length of list is 4\n",
      "First item of list is abc\n",
      "Last item of list is True\n",
      "New list is ['xyz', 1, 1.5, True]\n"
     ]
    },
    {
     "data": {
      "text/plain": [
       "['xyz', 1, 1.5, True]"
      ]
     },
     "execution_count": 22,
     "metadata": {},
     "output_type": "execute_result"
    }
   ],
   "source": [
    "list1 = [ 'abc', 1, 1.50, True ]\n",
    "\n",
    "print('Length of list is ' + str(len(list1)))\n",
    "print('First item of list is ' + str(list1[0]))\n",
    "print('Last item of list is ' + str(list1[-1]))"
   ]
  },
  {
   "cell_type": "markdown",
   "metadata": {},
   "source": [
    "### Updating list"
   ]
  },
  {
   "cell_type": "code",
   "execution_count": 23,
   "metadata": {},
   "outputs": [
    {
     "name": "stdout",
     "output_type": "stream",
     "text": [
      "New list is ['xyz', 1, 1.5, True]\n",
      "New list is ['xyz', 1, 1.5, 'False']\n"
     ]
    }
   ],
   "source": [
    "list1[0] = 'xyz'\n",
    "print('New list is ' + str(list1))\n",
    "list1[-1] = 'False'\n",
    "print('New list is ' + str(list1))"
   ]
  },
  {
   "cell_type": "markdown",
   "metadata": {},
   "source": [
    "### List Concatenation and List Replication"
   ]
  },
  {
   "cell_type": "code",
   "execution_count": 28,
   "metadata": {},
   "outputs": [
    {
     "name": "stdout",
     "output_type": "stream",
     "text": [
      "Concatenated list is ['xyz', 1, 1.5, 'False', 'A', 'B', 'C']\n",
      "Replicating list2 twice ['A', 'B', 'C', 'A', 'B', 'C']\n"
     ]
    }
   ],
   "source": [
    "list2 = ['A', 'B', 'C']\n",
    "list3 = list1 + list2\n",
    "print('Concatenated list is ' + str(list3))\n",
    "\n",
    "print('Replicating list2 twice ' + str(list2*2))\n"
   ]
  },
  {
   "cell_type": "code",
   "execution_count": null,
   "metadata": {},
   "outputs": [],
   "source": [
    "https://docs.python.org/2/tutorial/datastructures.html"
   ]
  },
  {
   "cell_type": "code",
   "execution_count": 30,
   "metadata": {},
   "outputs": [],
   "source": [
    "list1.append(list2)"
   ]
  }
 ],
 "metadata": {
  "kernelspec": {
   "display_name": "Python 3",
   "language": "python",
   "name": "python3"
  },
  "language_info": {
   "codemirror_mode": {
    "name": "ipython",
    "version": 3
   },
   "file_extension": ".py",
   "mimetype": "text/x-python",
   "name": "python",
   "nbconvert_exporter": "python",
   "pygments_lexer": "ipython3",
   "version": "3.7.3"
  }
 },
 "nbformat": 4,
 "nbformat_minor": 2
}
