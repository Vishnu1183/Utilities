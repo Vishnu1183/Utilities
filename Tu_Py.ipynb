{
 "cells": [
  {
   "cell_type": "markdown",
   "metadata": {},
   "source": [
    "<font size=\"5\"><center><h2>Intro To Python For DataScience</h2></center></font>\n"
   ]
  },
  {
   "cell_type": "markdown",
   "metadata": {},
   "source": [
    "<h1><font size=\"5\">About Python-</font></h1>\n",
    "\n",
    "* Created By Guido Van Rossum\n",
    "* First released in 1991\n",
    "* Interpreted, high-level, general-purpose programming language\n",
    "* Purpose: build anything\n",
    "* It is Open Source\n",
    "* Python Packages like numpy, pandas, scikit learn available for Data Science"
   ]
  },
  {
   "cell_type": "code",
   "execution_count": null,
   "metadata": {},
   "outputs": [],
   "source": [
    "about python\n",
    "installation\n",
    "\n",
    "lists dicts tuple\n",
    "The Integer, Floating-Point, and String Data Types"
   ]
  },
  {
   "cell_type": "code",
   "execution_count": null,
   "metadata": {},
   "outputs": [],
   "source": [
    "structure of df\n",
    "loading of data\n",
    "dtypes \n",
    "missing value countrs and treatment\n",
    "group by summarise\n",
    "data type conversion\n",
    "basic operations logical as well as arithmetic\n"
   ]
  },
  {
   "cell_type": "code",
   "execution_count": null,
   "metadata": {},
   "outputs": [],
   "source": []
  },
  {
   "cell_type": "code",
   "execution_count": null,
   "metadata": {},
   "outputs": [],
   "source": [
    "from IPython.display import Image\n",
    "Image(filename='')"
   ]
  },
  {
   "cell_type": "code",
   "execution_count": null,
   "metadata": {},
   "outputs": [],
   "source": []
  },
  {
   "cell_type": "markdown",
   "metadata": {},
   "source": [
    "<h3>Expressions in Python </h3>\n",
    "   * <h6>In python, 2 + 3 is an example of basic expression</h6>\n",
    "   * <h6>Expression has values & operators</h6>\n",
    "   * <h6>Expressions always reduce down to a single value</h6>\n",
    "   * <h6>The operators and values are put together as per python rules</h6>"
   ]
  },
  {
   "cell_type": "markdown",
   "metadata": {},
   "source": [
    "<h3><center> Math Operators from Highest to Lowest Precedence</center></h3>\n",
    "\n",
    "| Operator | Operation                        | Example | Evaluates to… |\n",
    "|----------|----------------------------------|---------|---------------|\n",
    "| **       | Exponent                         | `2**3   | 8             |\n",
    "| %        | Modulus/remainder                | 23%6    | 5             |\n",
    "| //       | Integer division                 | 23//6   | 3             |\n",
    "| /        | Division                         | 23/6    | 3.83          |\n",
    "| *        | Multiplication                   | 2*6     | 12            |\n",
    "| -        | Subtraction                      | `6-2    | 4             |\n",
    "| +        | Addition                         | 6+2     | 8             |"
   ]
  },
  {
   "cell_type": "markdown",
   "metadata": {},
   "source": [
    "### The values in an expression can have various data types"
   ]
  },
  {
   "cell_type": "markdown",
   "metadata": {},
   "source": [
    "<h3><center>Common Data Types</center></h3>\n",
    "\n",
    "| Data type              | Examples                  |\n",
    "|------------------------|---------------------------|\n",
    "| Integers               | `-1, -2,  0 , 1, 3 , 5    |\n",
    "| Floating-point numbers | `-1.34, -1.0, 0.0, 3.45   |\n",
    "| Strings                | Hello', 'PYTHON', 'LeArN' |"
   ]
  },
  {
   "cell_type": "markdown",
   "metadata": {},
   "source": [
    "<h2>Data Structures and Sequences</h2>\n",
    "* <h3>Tuple</h3>\n",
    "* <h3>List</h3>\n",
    "* <h3>Dictionary</h3>\n"
   ]
  },
  {
   "cell_type": "markdown",
   "metadata": {},
   "source": [
    "#### Hello World"
   ]
  },
  {
   "cell_type": "code",
   "execution_count": 2,
   "metadata": {},
   "outputs": [
    {
     "name": "stdout",
     "output_type": "stream",
     "text": [
      "Hello World!\n"
     ]
    }
   ],
   "source": [
    "print(\"Hello World!\")"
   ]
  },
  {
   "cell_type": "code",
   "execution_count": null,
   "metadata": {},
   "outputs": [],
   "source": [
    "Variables and Types"
   ]
  },
  {
   "cell_type": "code",
   "execution_count": null,
   "metadata": {},
   "outputs": [],
   "source": [
    "%lsmagic"
   ]
  }
 ],
 "metadata": {
  "kernelspec": {
   "display_name": "Python 3",
   "language": "python",
   "name": "python3"
  },
  "language_info": {
   "codemirror_mode": {
    "name": "ipython",
    "version": 3
   },
   "file_extension": ".py",
   "mimetype": "text/x-python",
   "name": "python",
   "nbconvert_exporter": "python",
   "pygments_lexer": "ipython3",
   "version": "3.6.5"
  }
 },
 "nbformat": 4,
 "nbformat_minor": 2
}
